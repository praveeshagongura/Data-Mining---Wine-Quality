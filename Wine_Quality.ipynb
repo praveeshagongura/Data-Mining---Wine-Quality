{
 "cells": [
  {
   "cell_type": "markdown",
   "id": "22f20eff-5874-4d97-9fc1-70424a62e1e6",
   "metadata": {},
   "source": [
    "# Importing Libraries"
   ]
  },
  {
   "cell_type": "code",
   "execution_count": 2,
   "id": "0bd32685-2c8c-4cfb-911c-8feb76bef38a",
   "metadata": {},
   "outputs": [],
   "source": [
    "import pandas as pd\n",
    "import numpy as np\n",
    "from IPython.display import display\n",
    "from ydata_profiling import ProfileReport\n",
    "import os\n",
    "from sklearn.model_selection import cross_val_score, StratifiedKFold\n",
    "from sklearn.dummy import DummyClassifier\n",
    "from sklearn.linear_model import LogisticRegression\n",
    "from sklearn.naive_bayes import GaussianNB\n",
    "from sklearn.tree import DecisionTreeClassifier\n",
    "from sklearn.svm import SVC\n",
    "from sklearn.ensemble import RandomForestClassifier\n",
    "from sklearn.metrics import make_scorer, accuracy_score\n",
    "from sklearn.model_selection import train_test_split\n",
    "from sklearn.preprocessing import LabelEncoder\n",
    "from sklearn.metrics import roc_curve\n",
    "from sklearn.metrics import auc\n",
    "import matplotlib.pyplot as plt\n",
    "from sklearn.model_selection import StratifiedKFold"
   ]
  },
  {
   "cell_type": "markdown",
   "id": "a3be4a04-6024-45b1-b2a2-9a28f150726c",
   "metadata": {},
   "source": [
    "# Loading Dataset"
   ]
  },
  {
   "cell_type": "code",
   "execution_count": 4,
   "id": "cfdc283c-1959-458c-b830-3a135eb4424f",
   "metadata": {},
   "outputs": [],
   "source": [
    "dataset_path = '/Users/praveesha/Desktop/IS733/HW/HW2/red_wine.csv'\n",
    "df = pd.read_csv(dataset_path)"
   ]
  },
  {
   "cell_type": "code",
   "execution_count": 5,
   "id": "edf57613-aed2-4977-87e1-fafa80e33941",
   "metadata": {},
   "outputs": [
    {
     "data": {
      "text/html": [
       "<div>\n",
       "<style scoped>\n",
       "    .dataframe tbody tr th:only-of-type {\n",
       "        vertical-align: middle;\n",
       "    }\n",
       "\n",
       "    .dataframe tbody tr th {\n",
       "        vertical-align: top;\n",
       "    }\n",
       "\n",
       "    .dataframe thead th {\n",
       "        text-align: right;\n",
       "    }\n",
       "</style>\n",
       "<table border=\"1\" class=\"dataframe\">\n",
       "  <thead>\n",
       "    <tr style=\"text-align: right;\">\n",
       "      <th></th>\n",
       "      <th>citric acid</th>\n",
       "      <th>sulphates</th>\n",
       "      <th>alcohol</th>\n",
       "      <th>type</th>\n",
       "    </tr>\n",
       "  </thead>\n",
       "  <tbody>\n",
       "    <tr>\n",
       "      <th>0</th>\n",
       "      <td>0.49</td>\n",
       "      <td>0.63</td>\n",
       "      <td>8.0</td>\n",
       "      <td>low</td>\n",
       "    </tr>\n",
       "    <tr>\n",
       "      <th>1</th>\n",
       "      <td>0.66</td>\n",
       "      <td>0.57</td>\n",
       "      <td>8.3</td>\n",
       "      <td>low</td>\n",
       "    </tr>\n",
       "    <tr>\n",
       "      <th>2</th>\n",
       "      <td>0.23</td>\n",
       "      <td>0.44</td>\n",
       "      <td>8.5</td>\n",
       "      <td>high</td>\n",
       "    </tr>\n",
       "    <tr>\n",
       "      <th>3</th>\n",
       "      <td>0.44</td>\n",
       "      <td>0.84</td>\n",
       "      <td>8.6</td>\n",
       "      <td>low</td>\n",
       "    </tr>\n",
       "    <tr>\n",
       "      <th>4</th>\n",
       "      <td>0.08</td>\n",
       "      <td>0.50</td>\n",
       "      <td>8.7</td>\n",
       "      <td>low</td>\n",
       "    </tr>\n",
       "  </tbody>\n",
       "</table>\n",
       "</div>"
      ],
      "text/plain": [
       "   citric acid  sulphates  alcohol  type\n",
       "0         0.49       0.63      8.0   low\n",
       "1         0.66       0.57      8.3   low\n",
       "2         0.23       0.44      8.5  high\n",
       "3         0.44       0.84      8.6   low\n",
       "4         0.08       0.50      8.7   low"
      ]
     },
     "execution_count": 5,
     "metadata": {},
     "output_type": "execute_result"
    }
   ],
   "source": [
    "df.head()"
   ]
  },
  {
   "cell_type": "markdown",
   "id": "3d7ad948-ab14-4ec1-a2c6-d79e1ee138b0",
   "metadata": {},
   "source": [
    "# Ydata Profiling"
   ]
  },
  {
   "cell_type": "code",
   "execution_count": 7,
   "id": "e8255b43-c1e8-476f-b078-e64ef415ba94",
   "metadata": {},
   "outputs": [
    {
     "data": {
      "application/vnd.jupyter.widget-view+json": {
       "model_id": "332fd98c645e451b87376614376c4600",
       "version_major": 2,
       "version_minor": 0
      },
      "text/plain": [
       "Summarize dataset:   0%|          | 0/5 [00:00<?, ?it/s]"
      ]
     },
     "metadata": {},
     "output_type": "display_data"
    },
    {
     "data": {
      "application/vnd.jupyter.widget-view+json": {
       "model_id": "ba67b98949dc46669306156de953d030",
       "version_major": 2,
       "version_minor": 0
      },
      "text/plain": [
       "Generate report structure:   0%|          | 0/1 [00:00<?, ?it/s]"
      ]
     },
     "metadata": {},
     "output_type": "display_data"
    },
    {
     "data": {
      "application/vnd.jupyter.widget-view+json": {
       "model_id": "85422825a8f94917af907ec883d969af",
       "version_major": 2,
       "version_minor": 0
      },
      "text/plain": [
       "Render HTML:   0%|          | 0/1 [00:00<?, ?it/s]"
      ]
     },
     "metadata": {},
     "output_type": "display_data"
    },
    {
     "data": {
      "application/vnd.jupyter.widget-view+json": {
       "model_id": "74badbc2e62345f29a21f4cd25166e1e",
       "version_major": 2,
       "version_minor": 0
      },
      "text/plain": [
       "Export report to file:   0%|          | 0/1 [00:00<?, ?it/s]"
      ]
     },
     "metadata": {},
     "output_type": "display_data"
    },
    {
     "name": "stdout",
     "output_type": "stream",
     "text": [
      "Profiling report saved as /Users/praveesha/Desktop/IS733/HW/HW2/profiling_report.html\n"
     ]
    }
   ],
   "source": [
    "# Generate a profile report\n",
    "profile = ProfileReport(df, title=\"Dataset Profiling Report\")\n",
    "\n",
    "# Save the report as an HTML file in the same directory as the dataset\n",
    "report_path = os.path.join(os.path.dirname(dataset_path), \"profiling_report.html\")\n",
    "profile.to_file(report_path)\n",
    "\n",
    "print(f\"Profiling report saved as {report_path}\")\n"
   ]
  },
  {
   "cell_type": "markdown",
   "id": "9ab493be-6b8f-4820-9cfa-97c303ec7e5f",
   "metadata": {},
   "source": [
    "# Comparing AUC and Accuracy of models"
   ]
  },
  {
   "cell_type": "code",
   "execution_count": 9,
   "id": "fdc66501-2fde-4be7-9f97-d023d4a1f819",
   "metadata": {},
   "outputs": [
    {
     "name": "stdout",
     "output_type": "stream",
     "text": [
      "Lengths of Model Names, AUC Scores, and Accuracy Scores: 7 7 7\n",
      "                          AUC  Accuracy\n",
      "Model                                  \n",
      "Baseline             0.500000  0.528887\n",
      "Logistic Regression  0.877178  0.791500\n",
      "Naive Bayes          0.893577  0.824894\n",
      "Decision Tree        0.813379  0.814459\n",
      "SVM-Linear           0.879401  0.788082\n",
      "SVM-RBF              0.856889  0.535904\n",
      "Random Forest        0.927452  0.859982\n"
     ]
    }
   ],
   "source": [
    "# Load the dataset (replace 'your_dataset.csv' with the actual file path)\n",
    "data = pd.read_csv('/Users/praveesha/Desktop/IS733/HW/HW2/red_wine.csv')\n",
    "\n",
    "# Prepare features (X) and target (y)\n",
    "X = data.iloc[:, :-1]  # All columns except the last as features\n",
    "y = data.iloc[:, -1]   # The last column as the target\n",
    "\n",
    "# Initialize Stratified K-Fold cross-validator\n",
    "cv = StratifiedKFold(n_splits=10, shuffle=True, random_state=1)\n",
    "\n",
    "# Define models, including baseline model\n",
    "models = {\n",
    "    \"Baseline\": DummyClassifier(strategy=\"most_frequent\"),\n",
    "    \"Logistic Regression\": LogisticRegression(),\n",
    "    \"Naive Bayes\": GaussianNB(),\n",
    "    \"Decision Tree\": DecisionTreeClassifier(),\n",
    "    \"SVM-Linear\": SVC(kernel=\"linear\", probability=True),\n",
    "    \"SVM-RBF\": SVC(kernel=\"rbf\", probability=True),\n",
    "    \"Random Forest\": RandomForestClassifier()\n",
    "}\n",
    "\n",
    "# Create empty lists to store results\n",
    "auc_scores = []\n",
    "accuracy_scores = []\n",
    "\n",
    "# Calculate AUC and accuracy for each model using cross-validation\n",
    "for model_name, model in models.items():\n",
    "    try:\n",
    "        auc = cross_val_score(model, X, y, cv=cv, scoring=\"roc_auc\").mean()\n",
    "        accuracy = cross_val_score(model, X, y, cv=cv, scoring=\"accuracy\").mean()\n",
    "    except Exception as e:\n",
    "        print(f\"Error evaluating model {model_name}: {e}\")\n",
    "        auc, accuracy = None, None  # Use None as placeholders for failed models\n",
    "    \n",
    "    auc_scores.append(auc)\n",
    "    accuracy_scores.append(accuracy)\n",
    "\n",
    "# Ensure all lists are the same length\n",
    "print(\"Lengths of Model Names, AUC Scores, and Accuracy Scores:\", len(models), len(auc_scores), len(accuracy_scores))\n",
    "\n",
    "# Create results table\n",
    "results = pd.DataFrame({\n",
    "    \"Model\": list(models.keys()),\n",
    "    \"AUC\": auc_scores,\n",
    "    \"Accuracy\": accuracy_scores\n",
    "}).set_index(\"Model\")\n",
    "\n",
    "# Display results table\n",
    "print(results)\n"
   ]
  },
  {
   "cell_type": "code",
   "execution_count": 10,
   "id": "26fa7d87-cf27-44ed-9d31-fa6394006cb1",
   "metadata": {},
   "outputs": [],
   "source": [
    "%matplotlib inline"
   ]
  },
  {
   "cell_type": "markdown",
   "id": "061ab53d-10c8-410e-8618-bf47e6cbbf0d",
   "metadata": {},
   "source": [
    "# ROC Curve of the Random Forest Classifier - (red-wine dataset)"
   ]
  },
  {
   "cell_type": "code",
   "execution_count": 12,
   "id": "2bc69b2d-a016-4924-b9dd-ae112f1abc47",
   "metadata": {},
   "outputs": [
    {
     "ename": "TypeError",
     "evalue": "'numpy.float64' object is not callable",
     "output_type": "error",
     "traceback": [
      "\u001b[0;31m---------------------------------------------------------------------------\u001b[0m",
      "\u001b[0;31mTypeError\u001b[0m                                 Traceback (most recent call last)",
      "Cell \u001b[0;32mIn[12], line 21\u001b[0m\n\u001b[1;32m     19\u001b[0m \u001b[38;5;66;03m# Compute ROC curve and AUC, specify pos_label if needed\u001b[39;00m\n\u001b[1;32m     20\u001b[0m fpr, tpr, thresholds \u001b[38;5;241m=\u001b[39m roc_curve(y_test, y_probs, pos_label\u001b[38;5;241m=\u001b[39m\u001b[38;5;241m1\u001b[39m)  \u001b[38;5;66;03m# 1 is the positive class\u001b[39;00m\n\u001b[0;32m---> 21\u001b[0m roc_auc \u001b[38;5;241m=\u001b[39m auc(fpr, tpr)\n\u001b[1;32m     23\u001b[0m \u001b[38;5;66;03m# Plot the ROC curve\u001b[39;00m\n\u001b[1;32m     24\u001b[0m plt\u001b[38;5;241m.\u001b[39mfigure(figsize\u001b[38;5;241m=\u001b[39m(\u001b[38;5;241m8\u001b[39m, \u001b[38;5;241m6\u001b[39m))\n",
      "\u001b[0;31mTypeError\u001b[0m: 'numpy.float64' object is not callable"
     ]
    }
   ],
   "source": [
    "# Prepare features (X) and target (y)\n",
    "X = data.iloc[:, :-1]  # all columns except the last as features\n",
    "y = data.iloc[:, -1]   # the last column as the target\n",
    "\n",
    "# Convert categorical labels to binary (e.g., 'high' -> 1, 'low' -> 0)\n",
    "label_encoder = LabelEncoder()\n",
    "y = label_encoder.fit_transform(y)  # Encode labels in entire dataset\n",
    "\n",
    "# Re-split the data with encoded y\n",
    "X_train, X_test, y_train, y_test = train_test_split(X, y, test_size=0.3, random_state=1)\n",
    "\n",
    "# Initialize and train the Random Forest model\n",
    "rf_classifier = RandomForestClassifier()\n",
    "rf_classifier.fit(X_train, y_train)\n",
    "\n",
    "# Predict probabilities for the test set\n",
    "y_probs = rf_classifier.predict_proba(X_test)[:, 1]  # Use probability of the positive class\n",
    "\n",
    "# Compute ROC curve and AUC, specify pos_label if needed\n",
    "fpr, tpr, thresholds = roc_curve(y_test, y_probs, pos_label=1)  # 1 is the positive class\n",
    "roc_auc = auc(fpr, tpr)\n",
    "\n",
    "# Plot the ROC curve\n",
    "plt.figure(figsize=(8, 6))\n",
    "# Labels and title\n",
    "plt.xlabel(\"False Positive Rate\")\n",
    "plt.ylabel(\"True Positive Rate\")\n",
    "plt.title(\"Receiver Operating Characteristic (ROC) Curve\")\n",
    "plt.plot(fpr, tpr, color=\"darkorange\", lw=2, label=f\"Random Forest (AUC = {roc_auc:.2f});\")\n",
    "plt.plot([0, 1], [0, 1], color=\"navy\", lw=2, linestyle=\"--\", label=\"Random Classifier (AUC = 0.5);\")\n",
    "plt.legend(loc=\"lower right\")\n",
    "plt.show()\n"
   ]
  },
  {
   "cell_type": "markdown",
   "id": "04cd1d61-cf21-4111-8efb-958cf3d84836",
   "metadata": {},
   "source": [
    "## AUC of Random Forest Classifier - (white-wine dataset)"
   ]
  },
  {
   "cell_type": "code",
   "execution_count": null,
   "id": "50c1b603-9074-4aea-970e-fdae129d5d57",
   "metadata": {},
   "outputs": [],
   "source": [
    "# Load the dataset (replace 'your_new_dataset.csv' with the actual file path)\n",
    "new_data = pd.read_csv('/Users/praveesha/Desktop/IS733/HW/HW2/white_wine.csv')"
   ]
  },
  {
   "cell_type": "code",
   "execution_count": null,
   "id": "5c3c870c-a210-41ca-88a1-ba5c6f3514ac",
   "metadata": {},
   "outputs": [],
   "source": [
    "# Prepare features (X) and target (y)\n",
    "X = new_data.iloc[:, :-1]  # all columns except the last as features\n",
    "y = new_data.iloc[:, -1]   # the last column as the target\n",
    "\n",
    "# Encode target if it's categorical\n",
    "if y.dtype == 'object':\n",
    "    le = LabelEncoder()\n",
    "    y = le.fit_transform(y)  # Convert labels to 0 and 1\n",
    "\n",
    "# Initialize Random Forest classifier with limited max_depth\n",
    "rf_classifier = RandomForestClassifier(max_depth=5, random_state=1)\n",
    "\n",
    "# Initialize Stratified K-Fold cross-validator\n",
    "cv = StratifiedKFold(n_splits=10, shuffle=True, random_state=1)\n",
    "\n",
    "# Arrays to store TPR, FPR, and AUC for each fold\n",
    "tprs = []\n",
    "aucs = []\n",
    "mean_fpr = np.linspace(0, 1, 100)\n",
    "\n",
    "# Cross-validation loop\n",
    "for fold_idx, (train_idx, test_idx) in enumerate(cv.split(X, y)):\n",
    "    X_train, X_test = X.iloc[train_idx], X.iloc[test_idx]\n",
    "    y_train, y_test = y[train_idx], y[test_idx]  # Use integer-encoded labels directly\n",
    "    \n",
    "    # Fit the model and predict probabilities\n",
    "    rf_classifier.fit(X_train, y_train)\n",
    "    y_probs = rf_classifier.predict_proba(X_test)[:, 1]  # Probability of the positive class\n",
    "    \n",
    "    # Compute ROC curve and AUC for this fold\n",
    "    fpr, tpr, _ = roc_curve(y_test, y_probs, pos_label=1)  # Use 1 as the positive class label\n",
    "    auc_score = auc(fpr, tpr)\n",
    "    aucs.append(auc_score)\n",
    "    print(f\"Fold {fold_idx + 1} AUC: {auc_score:.4f}\")  # Print AUC for each fold\n",
    "    \n",
    "    # Interpolate the TPR values at mean FPR points\n",
    "    interp_tpr = np.interp(mean_fpr, fpr, tpr)\n",
    "    interp_tpr[0] = 0.0  # Ensure the curve starts at 0\n",
    "    tprs.append(interp_tpr)\n",
    "\n",
    "# Calculate the mean and standard deviation of TPRs across folds\n",
    "mean_tpr = np.mean(tprs, axis=0)\n",
    "mean_tpr[-1] = 1.0  # Ensure the curve ends at 1\n",
    "mean_auc = auc(mean_fpr, mean_tpr)\n",
    "std_auc = np.std(aucs)\n",
    "\n",
    "# Print the mean AUC and standard deviation\n",
    "print(f\"Mean AUC: {mean_auc:.4f} ± {std_auc:.4f}\")\n",
    "\n",
    "# Plot the mean ROC curve with a confidence band\n",
    "plt.figure(figsize=(8, 6))\n",
    "plt.plot(mean_fpr, mean_tpr, color=\"b\", label=f\"Mean ROC (AUC = {mean_auc:.2f} ± {std_auc:.2f})\", lw=2)\n",
    "plt.fill_between(mean_fpr, np.maximum(mean_tpr - np.std(tprs, axis=0), 0), \n",
    "                 np.minimum(mean_tpr + np.std(tprs, axis=0), 1), color=\"lightblue\", alpha=0.2, \n",
    "                 label=\"± 1 std. dev.\")\n",
    "\n",
    "# Plot the reference line\n",
    "plt.plot([0, 1], [0, 1], color=\"navy\", lw=2, linestyle=\"--\", label=\"Random Classifier (AUC = 0.5)\")\n",
    "\n",
    "# Labels and title\n",
    "plt.xlabel(\"False Positive Rate\")\n",
    "plt.ylabel(\"True Positive Rate\")\n",
    "plt.title(\"Mean ROC Curve with Cross-Validation (Random Forest)\")\n",
    "plt.legend(loc=\"lower right\")\n",
    "plt.show()\n"
   ]
  },
  {
   "cell_type": "code",
   "execution_count": null,
   "id": "07e71949-2371-4ecb-b1ea-76440602804a",
   "metadata": {},
   "outputs": [],
   "source": []
  }
 ],
 "metadata": {
  "kernelspec": {
   "display_name": "Python 3 (ipykernel)",
   "language": "python",
   "name": "python3"
  },
  "language_info": {
   "codemirror_mode": {
    "name": "ipython",
    "version": 3
   },
   "file_extension": ".py",
   "mimetype": "text/x-python",
   "name": "python",
   "nbconvert_exporter": "python",
   "pygments_lexer": "ipython3",
   "version": "3.12.4"
  }
 },
 "nbformat": 4,
 "nbformat_minor": 5
}
